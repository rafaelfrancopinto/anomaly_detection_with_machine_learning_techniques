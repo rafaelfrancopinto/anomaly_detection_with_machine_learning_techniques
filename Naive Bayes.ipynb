{
 "cells": [
  {
   "cell_type": "code",
   "execution_count": 9,
   "id": "833df0bb",
   "metadata": {},
   "outputs": [],
   "source": [
    "import pandas as pd\n",
    "import numpy as np\n",
    "from sklearn import datasets\n",
    "import matplotlib as mpl\n",
    "import matplotlib.pyplot as plt\n",
    "from matplotlib.colors import ListedColormap\n",
    "from sklearn.model_selection import train_test_split\n",
    "from sklearn.naive_bayes import GaussianNB\n",
    "from sklearn.metrics import classification_report\n",
    "from sklearn.metrics import confusion_matrix\n",
    "from sklearn import metrics"
   ]
  },
  {
   "cell_type": "code",
   "execution_count": 2,
   "id": "5357fa74",
   "metadata": {},
   "outputs": [
    {
     "data": {
      "text/html": [
       "<div>\n",
       "<style scoped>\n",
       "    .dataframe tbody tr th:only-of-type {\n",
       "        vertical-align: middle;\n",
       "    }\n",
       "\n",
       "    .dataframe tbody tr th {\n",
       "        vertical-align: top;\n",
       "    }\n",
       "\n",
       "    .dataframe thead th {\n",
       "        text-align: right;\n",
       "    }\n",
       "</style>\n",
       "<table border=\"1\" class=\"dataframe\">\n",
       "  <thead>\n",
       "    <tr style=\"text-align: right;\">\n",
       "      <th></th>\n",
       "      <th>-0.00610163036267645</th>\n",
       "      <th>-0.00564772162352118</th>\n",
       "      <th>-0.00507088179350626</th>\n",
       "      <th>-0.00438659439707201</th>\n",
       "      <th>-0.00361285934965876</th>\n",
       "      <th>-0.00276939069510669</th>\n",
       "      <th>-0.00187364521764144</th>\n",
       "      <th>-0.000943666044049693</th>\n",
       "      <th>-3.78393687416748e-07</th>\n",
       "      <th>0.000932703555318616</th>\n",
       "      <th>...</th>\n",
       "      <th>0.0112478879601723</th>\n",
       "      <th>0.0298194964778406</th>\n",
       "      <th>-0.0258038130206867</th>\n",
       "      <th>0.0175522635535516</th>\n",
       "      <th>0.0233655194044791</th>\n",
       "      <th>0.0275976151612154</th>\n",
       "      <th>0.0420507515859686</th>\n",
       "      <th>0.0176488661748403</th>\n",
       "      <th>0.0445178194231775</th>\n",
       "      <th>0.0199181759668705</th>\n",
       "    </tr>\n",
       "  </thead>\n",
       "  <tbody>\n",
       "    <tr>\n",
       "      <th>0</th>\n",
       "      <td>-0.006102</td>\n",
       "      <td>-0.005648</td>\n",
       "      <td>-0.005071</td>\n",
       "      <td>-0.004387</td>\n",
       "      <td>-0.003613</td>\n",
       "      <td>-0.002769</td>\n",
       "      <td>-0.001874</td>\n",
       "      <td>-0.000944</td>\n",
       "      <td>-3.783937e-07</td>\n",
       "      <td>0.000933</td>\n",
       "      <td>...</td>\n",
       "      <td>0.011248</td>\n",
       "      <td>0.029819</td>\n",
       "      <td>-0.025804</td>\n",
       "      <td>0.017552</td>\n",
       "      <td>0.023366</td>\n",
       "      <td>0.027598</td>\n",
       "      <td>0.042051</td>\n",
       "      <td>0.017649</td>\n",
       "      <td>0.044518</td>\n",
       "      <td>0.019918</td>\n",
       "    </tr>\n",
       "    <tr>\n",
       "      <th>1</th>\n",
       "      <td>-0.006102</td>\n",
       "      <td>-0.005648</td>\n",
       "      <td>-0.005071</td>\n",
       "      <td>-0.004387</td>\n",
       "      <td>-0.003613</td>\n",
       "      <td>-0.002769</td>\n",
       "      <td>-0.001874</td>\n",
       "      <td>-0.000944</td>\n",
       "      <td>-3.783937e-07</td>\n",
       "      <td>0.000933</td>\n",
       "      <td>...</td>\n",
       "      <td>0.011248</td>\n",
       "      <td>0.029819</td>\n",
       "      <td>-0.025804</td>\n",
       "      <td>0.017552</td>\n",
       "      <td>0.023366</td>\n",
       "      <td>0.027598</td>\n",
       "      <td>0.042051</td>\n",
       "      <td>0.017649</td>\n",
       "      <td>0.044518</td>\n",
       "      <td>0.019918</td>\n",
       "    </tr>\n",
       "    <tr>\n",
       "      <th>2</th>\n",
       "      <td>-0.006102</td>\n",
       "      <td>-0.005648</td>\n",
       "      <td>-0.005071</td>\n",
       "      <td>-0.004387</td>\n",
       "      <td>-0.003613</td>\n",
       "      <td>-0.002769</td>\n",
       "      <td>-0.001874</td>\n",
       "      <td>-0.000944</td>\n",
       "      <td>-3.783937e-07</td>\n",
       "      <td>0.000933</td>\n",
       "      <td>...</td>\n",
       "      <td>0.011248</td>\n",
       "      <td>0.029819</td>\n",
       "      <td>-0.025804</td>\n",
       "      <td>0.017552</td>\n",
       "      <td>0.023366</td>\n",
       "      <td>0.027598</td>\n",
       "      <td>0.042051</td>\n",
       "      <td>0.017649</td>\n",
       "      <td>0.044518</td>\n",
       "      <td>0.019918</td>\n",
       "    </tr>\n",
       "    <tr>\n",
       "      <th>3</th>\n",
       "      <td>-0.006102</td>\n",
       "      <td>-0.005648</td>\n",
       "      <td>-0.005071</td>\n",
       "      <td>-0.004387</td>\n",
       "      <td>-0.003613</td>\n",
       "      <td>-0.002769</td>\n",
       "      <td>-0.001874</td>\n",
       "      <td>-0.000944</td>\n",
       "      <td>-3.783937e-07</td>\n",
       "      <td>0.000933</td>\n",
       "      <td>...</td>\n",
       "      <td>0.011248</td>\n",
       "      <td>0.029819</td>\n",
       "      <td>-0.025804</td>\n",
       "      <td>0.017552</td>\n",
       "      <td>0.023366</td>\n",
       "      <td>0.027598</td>\n",
       "      <td>0.042051</td>\n",
       "      <td>0.017649</td>\n",
       "      <td>0.044518</td>\n",
       "      <td>0.019918</td>\n",
       "    </tr>\n",
       "    <tr>\n",
       "      <th>4</th>\n",
       "      <td>-0.006102</td>\n",
       "      <td>-0.005648</td>\n",
       "      <td>-0.005071</td>\n",
       "      <td>-0.004387</td>\n",
       "      <td>-0.003613</td>\n",
       "      <td>-0.002769</td>\n",
       "      <td>-0.001874</td>\n",
       "      <td>-0.000944</td>\n",
       "      <td>-3.783937e-07</td>\n",
       "      <td>0.000933</td>\n",
       "      <td>...</td>\n",
       "      <td>0.011248</td>\n",
       "      <td>0.029819</td>\n",
       "      <td>-0.025804</td>\n",
       "      <td>0.017552</td>\n",
       "      <td>0.023366</td>\n",
       "      <td>0.027598</td>\n",
       "      <td>0.042051</td>\n",
       "      <td>0.017649</td>\n",
       "      <td>0.044518</td>\n",
       "      <td>0.019918</td>\n",
       "    </tr>\n",
       "  </tbody>\n",
       "</table>\n",
       "<p>5 rows × 40 columns</p>\n",
       "</div>"
      ],
      "text/plain": [
       "   -0.00610163036267645  -0.00564772162352118  -0.00507088179350626  \\\n",
       "0             -0.006102             -0.005648             -0.005071   \n",
       "1             -0.006102             -0.005648             -0.005071   \n",
       "2             -0.006102             -0.005648             -0.005071   \n",
       "3             -0.006102             -0.005648             -0.005071   \n",
       "4             -0.006102             -0.005648             -0.005071   \n",
       "\n",
       "   -0.00438659439707201  -0.00361285934965876  -0.00276939069510669  \\\n",
       "0             -0.004387             -0.003613             -0.002769   \n",
       "1             -0.004387             -0.003613             -0.002769   \n",
       "2             -0.004387             -0.003613             -0.002769   \n",
       "3             -0.004387             -0.003613             -0.002769   \n",
       "4             -0.004387             -0.003613             -0.002769   \n",
       "\n",
       "   -0.00187364521764144  -0.000943666044049693  -3.78393687416748e-07  \\\n",
       "0             -0.001874              -0.000944          -3.783937e-07   \n",
       "1             -0.001874              -0.000944          -3.783937e-07   \n",
       "2             -0.001874              -0.000944          -3.783937e-07   \n",
       "3             -0.001874              -0.000944          -3.783937e-07   \n",
       "4             -0.001874              -0.000944          -3.783937e-07   \n",
       "\n",
       "   0.000932703555318616  ...  0.0112478879601723  0.0298194964778406  \\\n",
       "0              0.000933  ...            0.011248            0.029819   \n",
       "1              0.000933  ...            0.011248            0.029819   \n",
       "2              0.000933  ...            0.011248            0.029819   \n",
       "3              0.000933  ...            0.011248            0.029819   \n",
       "4              0.000933  ...            0.011248            0.029819   \n",
       "\n",
       "   -0.0258038130206867  0.0175522635535516  0.0233655194044791  \\\n",
       "0            -0.025804            0.017552            0.023366   \n",
       "1            -0.025804            0.017552            0.023366   \n",
       "2            -0.025804            0.017552            0.023366   \n",
       "3            -0.025804            0.017552            0.023366   \n",
       "4            -0.025804            0.017552            0.023366   \n",
       "\n",
       "   0.0275976151612154  0.0420507515859686  0.0176488661748403  \\\n",
       "0            0.027598            0.042051            0.017649   \n",
       "1            0.027598            0.042051            0.017649   \n",
       "2            0.027598            0.042051            0.017649   \n",
       "3            0.027598            0.042051            0.017649   \n",
       "4            0.027598            0.042051            0.017649   \n",
       "\n",
       "   0.0445178194231775  0.0199181759668705  \n",
       "0            0.044518            0.019918  \n",
       "1            0.044518            0.019918  \n",
       "2            0.044518            0.019918  \n",
       "3            0.044518            0.019918  \n",
       "4            0.044518            0.019918  \n",
       "\n",
       "[5 rows x 40 columns]"
      ]
     },
     "execution_count": 2,
     "metadata": {},
     "output_type": "execute_result"
    }
   ],
   "source": [
    "dfX = pd.read_csv('X.csv')\n",
    "X = dfX\n",
    "dfX.head()"
   ]
  },
  {
   "cell_type": "code",
   "execution_count": 3,
   "id": "2986bcf1",
   "metadata": {},
   "outputs": [
    {
     "data": {
      "text/html": [
       "<div>\n",
       "<style scoped>\n",
       "    .dataframe tbody tr th:only-of-type {\n",
       "        vertical-align: middle;\n",
       "    }\n",
       "\n",
       "    .dataframe tbody tr th {\n",
       "        vertical-align: top;\n",
       "    }\n",
       "\n",
       "    .dataframe thead th {\n",
       "        text-align: right;\n",
       "    }\n",
       "</style>\n",
       "<table border=\"1\" class=\"dataframe\">\n",
       "  <thead>\n",
       "    <tr style=\"text-align: right;\">\n",
       "      <th></th>\n",
       "      <th>1</th>\n",
       "    </tr>\n",
       "  </thead>\n",
       "  <tbody>\n",
       "    <tr>\n",
       "      <th>0</th>\n",
       "      <td>1</td>\n",
       "    </tr>\n",
       "    <tr>\n",
       "      <th>1</th>\n",
       "      <td>1</td>\n",
       "    </tr>\n",
       "    <tr>\n",
       "      <th>2</th>\n",
       "      <td>1</td>\n",
       "    </tr>\n",
       "    <tr>\n",
       "      <th>3</th>\n",
       "      <td>0</td>\n",
       "    </tr>\n",
       "    <tr>\n",
       "      <th>4</th>\n",
       "      <td>1</td>\n",
       "    </tr>\n",
       "  </tbody>\n",
       "</table>\n",
       "</div>"
      ],
      "text/plain": [
       "   1\n",
       "0  1\n",
       "1  1\n",
       "2  1\n",
       "3  0\n",
       "4  1"
      ]
     },
     "execution_count": 3,
     "metadata": {},
     "output_type": "execute_result"
    }
   ],
   "source": [
    "dfy = pd.read_csv('y.csv')\n",
    "y = dfy\n",
    "dfy.head()"
   ]
  },
  {
   "cell_type": "code",
   "execution_count": 4,
   "id": "78e35bf1",
   "metadata": {},
   "outputs": [],
   "source": [
    "#X_train, X_test, y_train, y_test = train_test_split(X, y, test_size=0.5)\n",
    "X_train, X_test, y_train, y_test = train_test_split(X, y, train_size = 0.7, test_size = 0.3, stratify = y)"
   ]
  },
  {
   "cell_type": "code",
   "execution_count": 8,
   "id": "9b57ebfc",
   "metadata": {},
   "outputs": [
    {
     "name": "stdout",
     "output_type": "stream",
     "text": [
      "[0 0 0 ... 1 0 0]\n"
     ]
    }
   ],
   "source": [
    "gnb = GaussianNB()\n",
    "gnb.fit(X_train, y_train.values.ravel())\n",
    "y_pred = gnb.predict(X_test)\n",
    "print(y_pred)"
   ]
  },
  {
   "cell_type": "code",
   "execution_count": 11,
   "id": "df4192ae",
   "metadata": {},
   "outputs": [
    {
     "name": "stdout",
     "output_type": "stream",
     "text": [
      "0.5301408179012346\n"
     ]
    }
   ],
   "source": [
    "print(metrics.accuracy_score(y_test, y_pred))"
   ]
  },
  {
   "cell_type": "code",
   "execution_count": 13,
   "id": "045aed2b",
   "metadata": {},
   "outputs": [
    {
     "name": "stdout",
     "output_type": "stream",
     "text": [
      "              precision    recall  f1-score   support\n",
      "\n",
      "           0       0.51      0.90      0.66     20462\n",
      "           1       0.64      0.17      0.26     21010\n",
      "\n",
      "    accuracy                           0.53     41472\n",
      "   macro avg       0.58      0.54      0.46     41472\n",
      "weighted avg       0.58      0.53      0.46     41472\n",
      "\n"
     ]
    }
   ],
   "source": [
    "from sklearn.metrics import classification_report\n",
    "\n",
    "print(classification_report(y_test, y_pred))"
   ]
  },
  {
   "cell_type": "code",
   "execution_count": 12,
   "id": "e4e775e1",
   "metadata": {},
   "outputs": [
    {
     "data": {
      "text/plain": [
       "array([[18507,  1955],\n",
       "       [17531,  3479]], dtype=int64)"
      ]
     },
     "execution_count": 12,
     "metadata": {},
     "output_type": "execute_result"
    }
   ],
   "source": [
    "cm = np.array(confusion_matrix(y_test, y_pred))\n",
    "cm"
   ]
  },
  {
   "cell_type": "code",
   "execution_count": null,
   "id": "68dea823",
   "metadata": {},
   "outputs": [],
   "source": []
  }
 ],
 "metadata": {
  "kernelspec": {
   "display_name": "Python 3",
   "language": "python",
   "name": "python3"
  },
  "language_info": {
   "codemirror_mode": {
    "name": "ipython",
    "version": 3
   },
   "file_extension": ".py",
   "mimetype": "text/x-python",
   "name": "python",
   "nbconvert_exporter": "python",
   "pygments_lexer": "ipython3",
   "version": "3.8.8"
  }
 },
 "nbformat": 4,
 "nbformat_minor": 5
}
