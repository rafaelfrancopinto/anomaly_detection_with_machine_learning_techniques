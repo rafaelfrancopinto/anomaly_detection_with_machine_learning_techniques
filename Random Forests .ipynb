{
 "cells": [
  {
   "cell_type": "code",
   "execution_count": 21,
   "id": "8c302f2a",
   "metadata": {},
   "outputs": [],
   "source": [
    "import pandas as pd\n",
    "import numpy as np\n",
    "from sklearn import datasets\n",
    "import matplotlib as mpl\n",
    "import matplotlib.pyplot as plt\n",
    "from matplotlib.colors import ListedColormap\n",
    "from sklearn.model_selection import train_test_split\n",
    "from sklearn.naive_bayes import GaussianNB\n",
    "from sklearn.metrics import classification_report\n",
    "from sklearn.metrics import confusion_matrix"
   ]
  },
  {
   "cell_type": "code",
   "execution_count": 11,
   "id": "70d3619b",
   "metadata": {},
   "outputs": [
    {
     "data": {
      "text/html": [
       "<div>\n",
       "<style scoped>\n",
       "    .dataframe tbody tr th:only-of-type {\n",
       "        vertical-align: middle;\n",
       "    }\n",
       "\n",
       "    .dataframe tbody tr th {\n",
       "        vertical-align: top;\n",
       "    }\n",
       "\n",
       "    .dataframe thead th {\n",
       "        text-align: right;\n",
       "    }\n",
       "</style>\n",
       "<table border=\"1\" class=\"dataframe\">\n",
       "  <thead>\n",
       "    <tr style=\"text-align: right;\">\n",
       "      <th></th>\n",
       "      <th>-0.00610163036267645</th>\n",
       "      <th>-0.00564772162352118</th>\n",
       "      <th>-0.00507088179350626</th>\n",
       "      <th>-0.00438659439707201</th>\n",
       "      <th>-0.00361285934965876</th>\n",
       "      <th>-0.00276939069510669</th>\n",
       "      <th>-0.00187364521764144</th>\n",
       "      <th>-0.000943666044049693</th>\n",
       "      <th>-3.78393687416748e-07</th>\n",
       "      <th>0.000932703555318616</th>\n",
       "      <th>...</th>\n",
       "      <th>0.0112478879601723</th>\n",
       "      <th>0.0298194964778406</th>\n",
       "      <th>-0.0258038130206867</th>\n",
       "      <th>0.0175522635535516</th>\n",
       "      <th>0.0233655194044791</th>\n",
       "      <th>0.0275976151612154</th>\n",
       "      <th>0.0420507515859686</th>\n",
       "      <th>0.0176488661748403</th>\n",
       "      <th>0.0445178194231775</th>\n",
       "      <th>0.0199181759668705</th>\n",
       "    </tr>\n",
       "  </thead>\n",
       "  <tbody>\n",
       "    <tr>\n",
       "      <th>138234</th>\n",
       "      <td>-1.57829</td>\n",
       "      <td>-2.560223</td>\n",
       "      <td>-2.343307</td>\n",
       "      <td>-1.021847</td>\n",
       "      <td>0.818866</td>\n",
       "      <td>2.368043</td>\n",
       "      <td>2.944985</td>\n",
       "      <td>2.276026</td>\n",
       "      <td>0.607649</td>\n",
       "      <td>-1.378798</td>\n",
       "      <td>...</td>\n",
       "      <td>0.57913</td>\n",
       "      <td>0.415212</td>\n",
       "      <td>0.178667</td>\n",
       "      <td>-0.148418</td>\n",
       "      <td>-0.248931</td>\n",
       "      <td>-0.258957</td>\n",
       "      <td>-0.145863</td>\n",
       "      <td>0.075973</td>\n",
       "      <td>0.188391</td>\n",
       "      <td>0.253562</td>\n",
       "    </tr>\n",
       "    <tr>\n",
       "      <th>138235</th>\n",
       "      <td>-1.57829</td>\n",
       "      <td>-2.560223</td>\n",
       "      <td>-2.343307</td>\n",
       "      <td>-1.021847</td>\n",
       "      <td>0.818866</td>\n",
       "      <td>2.368043</td>\n",
       "      <td>2.944985</td>\n",
       "      <td>2.276026</td>\n",
       "      <td>0.607649</td>\n",
       "      <td>-1.378798</td>\n",
       "      <td>...</td>\n",
       "      <td>0.57913</td>\n",
       "      <td>0.415212</td>\n",
       "      <td>0.178667</td>\n",
       "      <td>-0.148418</td>\n",
       "      <td>-0.248931</td>\n",
       "      <td>-0.258957</td>\n",
       "      <td>-0.145863</td>\n",
       "      <td>0.075973</td>\n",
       "      <td>0.188391</td>\n",
       "      <td>0.253562</td>\n",
       "    </tr>\n",
       "    <tr>\n",
       "      <th>138236</th>\n",
       "      <td>-1.57829</td>\n",
       "      <td>-2.560223</td>\n",
       "      <td>-2.343307</td>\n",
       "      <td>-1.021847</td>\n",
       "      <td>0.818866</td>\n",
       "      <td>2.368043</td>\n",
       "      <td>2.944985</td>\n",
       "      <td>2.276026</td>\n",
       "      <td>0.607649</td>\n",
       "      <td>-1.378798</td>\n",
       "      <td>...</td>\n",
       "      <td>0.57913</td>\n",
       "      <td>0.415212</td>\n",
       "      <td>0.178667</td>\n",
       "      <td>-0.148418</td>\n",
       "      <td>-0.248931</td>\n",
       "      <td>-0.258957</td>\n",
       "      <td>-0.145863</td>\n",
       "      <td>0.075973</td>\n",
       "      <td>0.188391</td>\n",
       "      <td>0.253562</td>\n",
       "    </tr>\n",
       "    <tr>\n",
       "      <th>138237</th>\n",
       "      <td>-1.57829</td>\n",
       "      <td>-2.560223</td>\n",
       "      <td>-2.343307</td>\n",
       "      <td>-1.021847</td>\n",
       "      <td>0.818866</td>\n",
       "      <td>2.368043</td>\n",
       "      <td>2.944985</td>\n",
       "      <td>2.276026</td>\n",
       "      <td>0.607649</td>\n",
       "      <td>-1.378798</td>\n",
       "      <td>...</td>\n",
       "      <td>0.57913</td>\n",
       "      <td>0.415212</td>\n",
       "      <td>0.178667</td>\n",
       "      <td>-0.148418</td>\n",
       "      <td>-0.248931</td>\n",
       "      <td>-0.258957</td>\n",
       "      <td>-0.145863</td>\n",
       "      <td>0.075973</td>\n",
       "      <td>0.188391</td>\n",
       "      <td>0.253562</td>\n",
       "    </tr>\n",
       "    <tr>\n",
       "      <th>138238</th>\n",
       "      <td>-1.57829</td>\n",
       "      <td>-2.560223</td>\n",
       "      <td>-2.343307</td>\n",
       "      <td>-1.021847</td>\n",
       "      <td>0.818866</td>\n",
       "      <td>2.368043</td>\n",
       "      <td>2.944985</td>\n",
       "      <td>2.276026</td>\n",
       "      <td>0.607649</td>\n",
       "      <td>-1.378798</td>\n",
       "      <td>...</td>\n",
       "      <td>0.57913</td>\n",
       "      <td>0.415212</td>\n",
       "      <td>0.178667</td>\n",
       "      <td>-0.148418</td>\n",
       "      <td>-0.248931</td>\n",
       "      <td>-0.258957</td>\n",
       "      <td>-0.145863</td>\n",
       "      <td>0.075973</td>\n",
       "      <td>0.188391</td>\n",
       "      <td>0.253562</td>\n",
       "    </tr>\n",
       "  </tbody>\n",
       "</table>\n",
       "<p>5 rows × 40 columns</p>\n",
       "</div>"
      ],
      "text/plain": [
       "        -0.00610163036267645  -0.00564772162352118  -0.00507088179350626  \\\n",
       "138234              -1.57829             -2.560223             -2.343307   \n",
       "138235              -1.57829             -2.560223             -2.343307   \n",
       "138236              -1.57829             -2.560223             -2.343307   \n",
       "138237              -1.57829             -2.560223             -2.343307   \n",
       "138238              -1.57829             -2.560223             -2.343307   \n",
       "\n",
       "        -0.00438659439707201  -0.00361285934965876  -0.00276939069510669  \\\n",
       "138234             -1.021847              0.818866              2.368043   \n",
       "138235             -1.021847              0.818866              2.368043   \n",
       "138236             -1.021847              0.818866              2.368043   \n",
       "138237             -1.021847              0.818866              2.368043   \n",
       "138238             -1.021847              0.818866              2.368043   \n",
       "\n",
       "        -0.00187364521764144  -0.000943666044049693  -3.78393687416748e-07  \\\n",
       "138234              2.944985               2.276026               0.607649   \n",
       "138235              2.944985               2.276026               0.607649   \n",
       "138236              2.944985               2.276026               0.607649   \n",
       "138237              2.944985               2.276026               0.607649   \n",
       "138238              2.944985               2.276026               0.607649   \n",
       "\n",
       "        0.000932703555318616  ...  0.0112478879601723  0.0298194964778406  \\\n",
       "138234             -1.378798  ...             0.57913            0.415212   \n",
       "138235             -1.378798  ...             0.57913            0.415212   \n",
       "138236             -1.378798  ...             0.57913            0.415212   \n",
       "138237             -1.378798  ...             0.57913            0.415212   \n",
       "138238             -1.378798  ...             0.57913            0.415212   \n",
       "\n",
       "        -0.0258038130206867  0.0175522635535516  0.0233655194044791  \\\n",
       "138234             0.178667           -0.148418           -0.248931   \n",
       "138235             0.178667           -0.148418           -0.248931   \n",
       "138236             0.178667           -0.148418           -0.248931   \n",
       "138237             0.178667           -0.148418           -0.248931   \n",
       "138238             0.178667           -0.148418           -0.248931   \n",
       "\n",
       "        0.0275976151612154  0.0420507515859686  0.0176488661748403  \\\n",
       "138234           -0.258957           -0.145863            0.075973   \n",
       "138235           -0.258957           -0.145863            0.075973   \n",
       "138236           -0.258957           -0.145863            0.075973   \n",
       "138237           -0.258957           -0.145863            0.075973   \n",
       "138238           -0.258957           -0.145863            0.075973   \n",
       "\n",
       "        0.0445178194231775  0.0199181759668705  \n",
       "138234            0.188391            0.253562  \n",
       "138235            0.188391            0.253562  \n",
       "138236            0.188391            0.253562  \n",
       "138237            0.188391            0.253562  \n",
       "138238            0.188391            0.253562  \n",
       "\n",
       "[5 rows x 40 columns]"
      ]
     },
     "execution_count": 11,
     "metadata": {},
     "output_type": "execute_result"
    }
   ],
   "source": [
    "dfX = pd.read_csv('X.csv')\n",
    "X = dfX\n",
    "dfX.tail()"
   ]
  },
  {
   "cell_type": "code",
   "execution_count": 12,
   "id": "4ab507c4",
   "metadata": {},
   "outputs": [
    {
     "data": {
      "text/html": [
       "<div>\n",
       "<style scoped>\n",
       "    .dataframe tbody tr th:only-of-type {\n",
       "        vertical-align: middle;\n",
       "    }\n",
       "\n",
       "    .dataframe tbody tr th {\n",
       "        vertical-align: top;\n",
       "    }\n",
       "\n",
       "    .dataframe thead th {\n",
       "        text-align: right;\n",
       "    }\n",
       "</style>\n",
       "<table border=\"1\" class=\"dataframe\">\n",
       "  <thead>\n",
       "    <tr style=\"text-align: right;\">\n",
       "      <th></th>\n",
       "      <th>1</th>\n",
       "    </tr>\n",
       "  </thead>\n",
       "  <tbody>\n",
       "    <tr>\n",
       "      <th>0</th>\n",
       "      <td>1</td>\n",
       "    </tr>\n",
       "    <tr>\n",
       "      <th>1</th>\n",
       "      <td>1</td>\n",
       "    </tr>\n",
       "    <tr>\n",
       "      <th>2</th>\n",
       "      <td>1</td>\n",
       "    </tr>\n",
       "    <tr>\n",
       "      <th>3</th>\n",
       "      <td>0</td>\n",
       "    </tr>\n",
       "    <tr>\n",
       "      <th>4</th>\n",
       "      <td>1</td>\n",
       "    </tr>\n",
       "  </tbody>\n",
       "</table>\n",
       "</div>"
      ],
      "text/plain": [
       "   1\n",
       "0  1\n",
       "1  1\n",
       "2  1\n",
       "3  0\n",
       "4  1"
      ]
     },
     "execution_count": 12,
     "metadata": {},
     "output_type": "execute_result"
    }
   ],
   "source": [
    "dfy = pd.read_csv('y.csv')\n",
    "y = dfy\n",
    "dfy.head()"
   ]
  },
  {
   "cell_type": "code",
   "execution_count": 13,
   "id": "4b1b85d7",
   "metadata": {},
   "outputs": [],
   "source": [
    "X_train, X_test, y_train, y_test = train_test_split(X, y, test_size=0.3, random_state=0)"
   ]
  },
  {
   "cell_type": "code",
   "execution_count": 14,
   "id": "22a5fc50",
   "metadata": {},
   "outputs": [
    {
     "data": {
      "text/plain": [
       "RandomForestClassifier()"
      ]
     },
     "execution_count": 14,
     "metadata": {},
     "output_type": "execute_result"
    }
   ],
   "source": [
    "from sklearn.ensemble import RandomForestClassifier\n",
    "rf = RandomForestClassifier()\n",
    "rf.fit(X_train, y_train.values.ravel())"
   ]
  },
  {
   "cell_type": "code",
   "execution_count": 15,
   "id": "49541850",
   "metadata": {},
   "outputs": [],
   "source": [
    "y_pred = rf.predict(X_test)"
   ]
  },
  {
   "cell_type": "code",
   "execution_count": 16,
   "id": "9c999ad1",
   "metadata": {},
   "outputs": [
    {
     "data": {
      "text/plain": [
       "0.6968299710669175"
      ]
     },
     "execution_count": 16,
     "metadata": {},
     "output_type": "execute_result"
    }
   ],
   "source": [
    "from sklearn.metrics import roc_curve, auc\n",
    "false_positive_rate, true_positive_rate, thresholds = roc_curve(y_test, y_pred)\n",
    "roc_auc = auc(false_positive_rate, true_positive_rate)\n",
    "roc_auc"
   ]
  },
  {
   "cell_type": "code",
   "execution_count": null,
   "id": "250be6cf",
   "metadata": {},
   "outputs": [],
   "source": [
    "n_estimators = [1, 2, 4, 8, 16, 32, 64, 100, 200]\n",
    "train_results = []\n",
    "test_results = []\n",
    "\n",
    "for estimator in n_estimators:\n",
    "    rf = RandomForestClassifier(n_estimators=estimator, n_jobs=-1)\n",
    "    rf.fit(X_train,  y_train.values.ravel())\n",
    "    train_pred = rf.predict(X_train)\n",
    "    false_positive_rate, true_positive_rate, thresholds = roc_curve(y_train,\n",
    "                                                                   train_pred)\n",
    "    roc_auc = auc(false_positive_rate, true_positive_rate)\n",
    "    train_results.append(roc_auc)\n",
    "    y_pred = rf.predict(X_test)\n",
    "    false_positive_rate, true_positive_rate, thresholds = roc_curve(y_test,\n",
    "                                                                   y_pred)\n",
    "    roc_auc = auc(false_positive_rate, true_positive_rate)\n",
    "    test_results.append(roc_auc)\n",
    "    \n",
    "from matplotlib.legend_handler import HandlerLine2D\n",
    "line1, = plt.plot(n_estimators, train_results, \"b\", label=\"Train AUC\")\n",
    "line2, = plt.plot(n_estimators, test_result, \"r\", label=\"Test AUC\")\n",
    "plt.legend(handler_map={line1: HandlerLine2D(numpoints=2)})\n",
    "plt.ylabel(\"AUC score\")\n",
    "plt.xlabel(\"n_estimators\")\n",
    "plt.show()"
   ]
  },
  {
   "cell_type": "code",
   "execution_count": 25,
   "id": "d75660f3",
   "metadata": {},
   "outputs": [
    {
     "data": {
      "text/plain": [
       "0.6969762731481481"
      ]
     },
     "execution_count": 25,
     "metadata": {},
     "output_type": "execute_result"
    }
   ],
   "source": [
    "from sklearn.metrics import accuracy_score\n",
    "accuracy_score(y_test, y_pred)"
   ]
  },
  {
   "cell_type": "code",
   "execution_count": 17,
   "id": "a74ad596",
   "metadata": {},
   "outputs": [
    {
     "name": "stdout",
     "output_type": "stream",
     "text": [
      "              precision    recall  f1-score   support\n",
      "\n",
      "           0       0.69      0.69      0.69     20399\n",
      "           1       0.70      0.71      0.70     21073\n",
      "\n",
      "    accuracy                           0.70     41472\n",
      "   macro avg       0.70      0.70      0.70     41472\n",
      "weighted avg       0.70      0.70      0.70     41472\n",
      "\n"
     ]
    }
   ],
   "source": [
    "from sklearn.metrics import classification_report\n",
    "\n",
    "print(classification_report(y_test, y_pred))"
   ]
  },
  {
   "cell_type": "code",
   "execution_count": 23,
   "id": "34f8111d",
   "metadata": {},
   "outputs": [
    {
     "data": {
      "text/plain": [
       "array([[14031,  6368],\n",
       "       [ 6199, 14874]], dtype=int64)"
      ]
     },
     "execution_count": 23,
     "metadata": {},
     "output_type": "execute_result"
    }
   ],
   "source": [
    "confusion_matrix(y_test, y_pred)"
   ]
  },
  {
   "cell_type": "code",
   "execution_count": null,
   "id": "072c1cb5",
   "metadata": {},
   "outputs": [],
   "source": []
  }
 ],
 "metadata": {
  "kernelspec": {
   "display_name": "Python 3",
   "language": "python",
   "name": "python3"
  }
 },
 "nbformat": 4,
 "nbformat_minor": 5
}
